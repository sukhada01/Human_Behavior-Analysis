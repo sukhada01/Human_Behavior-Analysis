{
 "cells": [
  {
   "cell_type": "code",
   "execution_count": 1,
   "metadata": {},
   "outputs": [],
   "source": [
    "import pandas as pd\n",
    "from datetime import datetime, timedelta, date\n",
    "import numpy as np"
   ]
  },
  {
   "cell_type": "code",
   "execution_count": 2,
   "metadata": {},
   "outputs": [],
   "source": [
    "df = pd.read_csv(\"0115.txt\", sep=' ')"
   ]
  },
  {
   "cell_type": "markdown",
   "metadata": {},
   "source": [
    "### Filtering data between 19 June 2006 and 19 July 2006. \n",
    "* 1150693200000 = June 19, 2006 00:00:00 AM \n",
    "* 1153285200000 = July 19, 2006 00:00:00 AM "
   ]
  },
  {
   "cell_type": "code",
   "execution_count": 6,
   "metadata": {},
   "outputs": [],
   "source": [
    "df1 = df[(df['Start']>=1150693200000) & (df['Start']<=1153285200000)]"
   ]
  },
  {
   "cell_type": "code",
   "execution_count": 7,
   "metadata": {},
   "outputs": [],
   "source": [
    "def readable_date(date):\n",
    "    ts = int(date)\n",
    "    ts/=1000 #given time is upto millisecond precision. We need only till seconds.\n",
    "    edt = datetime.utcfromtimestamp(ts)+timedelta(hours=-5)\n",
    "    return edt.strftime('%d-%m-%y %H:%M:%S')"
   ]
  },
  {
   "cell_type": "code",
   "execution_count": null,
   "metadata": {
    "scrolled": true
   },
   "outputs": [],
   "source": [
    "df1['Start']=df1['Start'].apply(readable_date)"
   ]
  },
  {
   "cell_type": "code",
   "execution_count": null,
   "metadata": {
    "scrolled": true
   },
   "outputs": [],
   "source": [
    "df1['End']=df1['End'].apply(readable_date)"
   ]
  },
  {
   "cell_type": "markdown",
   "metadata": {},
   "source": [
    "### Extracting the Date and Time parts in separate columns"
   ]
  },
  {
   "cell_type": "code",
   "execution_count": null,
   "metadata": {},
   "outputs": [],
   "source": [
    "df1['Date'] = df1['Start'].apply(lambda x : x.split()[0])"
   ]
  },
  {
   "cell_type": "code",
   "execution_count": null,
   "metadata": {},
   "outputs": [],
   "source": [
    "df1['Starttime'] = df1['Start'].apply(lambda x : x.split()[1])"
   ]
  },
  {
   "cell_type": "code",
   "execution_count": null,
   "metadata": {},
   "outputs": [],
   "source": [
    "df1['Endtime'] = df1['End'].apply(lambda x : x.split()[1])"
   ]
  },
  {
   "cell_type": "code",
   "execution_count": 17,
   "metadata": {},
   "outputs": [],
   "source": [
    "df1.to_csv(\"CSV/115_filtered2.csv\", header=True, index=False)"
   ]
  },
  {
   "cell_type": "code",
   "execution_count": 18,
   "metadata": {},
   "outputs": [
    {
     "data": {
      "text/html": [
       "<div>\n",
       "<style scoped>\n",
       "    .dataframe tbody tr th:only-of-type {\n",
       "        vertical-align: middle;\n",
       "    }\n",
       "\n",
       "    .dataframe tbody tr th {\n",
       "        vertical-align: top;\n",
       "    }\n",
       "\n",
       "    .dataframe thead th {\n",
       "        text-align: right;\n",
       "    }\n",
       "</style>\n",
       "<table border=\"1\" class=\"dataframe\">\n",
       "  <thead>\n",
       "    <tr style=\"text-align: right;\">\n",
       "      <th></th>\n",
       "      <th>SensorID</th>\n",
       "      <th>Start</th>\n",
       "      <th>End</th>\n",
       "      <th>Placeholder</th>\n",
       "      <th>Date</th>\n",
       "      <th>Starttime</th>\n",
       "      <th>Endtime</th>\n",
       "    </tr>\n",
       "  </thead>\n",
       "  <tbody>\n",
       "    <tr>\n",
       "      <th>475012</th>\n",
       "      <td>430</td>\n",
       "      <td>19-06-06 00:00:00</td>\n",
       "      <td>19-06-06 00:00:01</td>\n",
       "      <td>1.0</td>\n",
       "      <td>19-06-06</td>\n",
       "      <td>00:00:00</td>\n",
       "      <td>00:00:01</td>\n",
       "    </tr>\n",
       "    <tr>\n",
       "      <th>475013</th>\n",
       "      <td>430</td>\n",
       "      <td>19-06-06 00:00:02</td>\n",
       "      <td>19-06-06 00:00:03</td>\n",
       "      <td>1.0</td>\n",
       "      <td>19-06-06</td>\n",
       "      <td>00:00:02</td>\n",
       "      <td>00:00:03</td>\n",
       "    </tr>\n",
       "    <tr>\n",
       "      <th>475014</th>\n",
       "      <td>410</td>\n",
       "      <td>19-06-06 00:00:02</td>\n",
       "      <td>19-06-06 00:00:03</td>\n",
       "      <td>1.0</td>\n",
       "      <td>19-06-06</td>\n",
       "      <td>00:00:02</td>\n",
       "      <td>00:00:03</td>\n",
       "    </tr>\n",
       "    <tr>\n",
       "      <th>475015</th>\n",
       "      <td>430</td>\n",
       "      <td>19-06-06 00:00:04</td>\n",
       "      <td>19-06-06 00:00:05</td>\n",
       "      <td>1.0</td>\n",
       "      <td>19-06-06</td>\n",
       "      <td>00:00:04</td>\n",
       "      <td>00:00:05</td>\n",
       "    </tr>\n",
       "    <tr>\n",
       "      <th>475016</th>\n",
       "      <td>410</td>\n",
       "      <td>19-06-06 00:00:04</td>\n",
       "      <td>19-06-06 00:00:05</td>\n",
       "      <td>1.0</td>\n",
       "      <td>19-06-06</td>\n",
       "      <td>00:00:04</td>\n",
       "      <td>00:00:05</td>\n",
       "    </tr>\n",
       "  </tbody>\n",
       "</table>\n",
       "</div>"
      ],
      "text/plain": [
       "        SensorID              Start                End  Placeholder      Date  \\\n",
       "475012       430  19-06-06 00:00:00  19-06-06 00:00:01          1.0  19-06-06   \n",
       "475013       430  19-06-06 00:00:02  19-06-06 00:00:03          1.0  19-06-06   \n",
       "475014       410  19-06-06 00:00:02  19-06-06 00:00:03          1.0  19-06-06   \n",
       "475015       430  19-06-06 00:00:04  19-06-06 00:00:05          1.0  19-06-06   \n",
       "475016       410  19-06-06 00:00:04  19-06-06 00:00:05          1.0  19-06-06   \n",
       "\n",
       "       Starttime   Endtime  \n",
       "475012  00:00:00  00:00:01  \n",
       "475013  00:00:02  00:00:03  \n",
       "475014  00:00:02  00:00:03  \n",
       "475015  00:00:04  00:00:05  \n",
       "475016  00:00:04  00:00:05  "
      ]
     },
     "execution_count": 18,
     "metadata": {},
     "output_type": "execute_result"
    }
   ],
   "source": [
    "df1.head()"
   ]
  },
  {
   "cell_type": "code",
   "execution_count": null,
   "metadata": {},
   "outputs": [],
   "source": []
  }
 ],
 "metadata": {
  "kernelspec": {
   "display_name": "Python 3",
   "language": "python",
   "name": "python3"
  },
  "language_info": {
   "codemirror_mode": {
    "name": "ipython",
    "version": 3
   },
   "file_extension": ".py",
   "mimetype": "text/x-python",
   "name": "python",
   "nbconvert_exporter": "python",
   "pygments_lexer": "ipython3",
   "version": "3.7.1"
  }
 },
 "nbformat": 4,
 "nbformat_minor": 4
}
