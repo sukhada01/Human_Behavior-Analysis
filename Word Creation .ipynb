{
 "cells": [
  {
   "cell_type": "code",
   "execution_count": 1,
   "metadata": {},
   "outputs": [],
   "source": [
    "#Importing the required libraries\n",
    "import pandas as pd\n",
    "from datetime import datetime, timedelta, date\n",
    "import numpy as np"
   ]
  },
  {
   "cell_type": "code",
   "execution_count": 48,
   "metadata": {},
   "outputs": [],
   "source": [
    "#Importing the required filtered dataset\n",
    "df2=pd.read_csv(\"CSV/115_filtered2.csv\")"
   ]
  },
  {
   "cell_type": "code",
   "execution_count": 49,
   "metadata": {},
   "outputs": [],
   "source": [
    "#Extract the sensor start time from the time converted date-time column\n",
    "df2['Starttime'] = df2['Starttime'].apply(lambda x : datetime.strptime(x, '%H:%M:%S').time())"
   ]
  },
  {
   "cell_type": "code",
   "execution_count": 50,
   "metadata": {},
   "outputs": [],
   "source": [
    "#Extract the sensor end time from the time converted date-time column\n",
    "df2['Endtime'] = df2['Endtime'].apply(lambda x : datetime.strptime(x, '%H:%M:%S').time())"
   ]
  },
  {
   "cell_type": "markdown",
   "metadata": {},
   "source": [
    "### Getting the Minute column"
   ]
  },
  {
   "cell_type": "code",
   "execution_count": 51,
   "metadata": {},
   "outputs": [],
   "source": [
    "df2['Minutes'] = df2['Starttime'].map(lambda x : x.minute)"
   ]
  },
  {
   "cell_type": "code",
   "execution_count": 52,
   "metadata": {},
   "outputs": [],
   "source": [
    "df2['End Minutes'] = df2['Endtime'].map(lambda x : x.minute)"
   ]
  },
  {
   "cell_type": "markdown",
   "metadata": {},
   "source": [
    "### Finding the maximum duration for which a particular sensor activation lasted"
   ]
  },
  {
   "cell_type": "code",
   "execution_count": 53,
   "metadata": {},
   "outputs": [
    {
     "data": {
      "text/plain": [
       "1"
      ]
     },
     "execution_count": 53,
     "metadata": {},
     "output_type": "execute_result"
    }
   ],
   "source": [
    "(df2['End Minutes']-df2['Minutes']).max()"
   ]
  },
  {
   "cell_type": "code",
   "execution_count": 54,
   "metadata": {},
   "outputs": [],
   "source": [
    "df2.drop('End Minutes', axis=1, inplace=True)"
   ]
  },
  {
   "cell_type": "markdown",
   "metadata": {},
   "source": [
    "### Getting the Bits columns"
   ]
  },
  {
   "cell_type": "code",
   "execution_count": 55,
   "metadata": {},
   "outputs": [],
   "source": [
    "def getbit1(x):\n",
    "    if (x==0 or x==5 or x==10 or x==15 or x==20 or x==25 or x==30 or x==35 or x==40 or x==45 or x==50 or x==55):\n",
    "        return 1\n",
    "    else:\n",
    "        return 0"
   ]
  },
  {
   "cell_type": "code",
   "execution_count": 56,
   "metadata": {},
   "outputs": [],
   "source": [
    "def getbit2(x):\n",
    "    if (x==1 or x==6 or x==11 or x==16 or x==21 or x==26 or x==31 or x==36 or x==41 or x==46 or x==51 or x==56):\n",
    "        return 1\n",
    "    else:\n",
    "        return 0"
   ]
  },
  {
   "cell_type": "code",
   "execution_count": 57,
   "metadata": {},
   "outputs": [],
   "source": [
    "def getbit3(x):\n",
    "    if (x==2 or x==7 or x==12 or x==17 or x==22 or x==27 or x==32 or x==37 or x==42 or x==47 or x==52 or x==57):\n",
    "        return 1\n",
    "    else:\n",
    "        return 0"
   ]
  },
  {
   "cell_type": "code",
   "execution_count": 58,
   "metadata": {},
   "outputs": [],
   "source": [
    "def getbit4(x):\n",
    "    if (x==3  or x==8 or x==13 or x==18 or x==23 or x==28 or x==33 or x==38 or x==43 or x==48 or x==53 or x==58):\n",
    "        return 1\n",
    "    else:\n",
    "        return 0"
   ]
  },
  {
   "cell_type": "code",
   "execution_count": 59,
   "metadata": {},
   "outputs": [],
   "source": [
    "def getbit5(x):\n",
    "    if (x==4 or x==9 or x==14 or x==19 or x==24 or x==29 or x==34 or x==39 or x==44 or x==49 or x==54 or x==59):\n",
    "        return 1\n",
    "    else:\n",
    "        return 0"
   ]
  },
  {
   "cell_type": "code",
   "execution_count": 60,
   "metadata": {},
   "outputs": [],
   "source": [
    "df2['bit1']= np.array(df2['Minutes'].apply(getbit1))\n",
    "df2['bit2']= np.array(df2['Minutes'].apply(getbit2))\n",
    "df2['bit3']= np.array(df2['Minutes'].apply(getbit3))\n",
    "df2['bit4']= np.array(df2['Minutes'].apply(getbit4))\n",
    "df2['bit5']= np.array(df2['Minutes'].apply(getbit5))"
   ]
  },
  {
   "cell_type": "code",
   "execution_count": 90,
   "metadata": {},
   "outputs": [
    {
     "data": {
      "text/html": [
       "<div>\n",
       "<style scoped>\n",
       "    .dataframe tbody tr th:only-of-type {\n",
       "        vertical-align: middle;\n",
       "    }\n",
       "\n",
       "    .dataframe tbody tr th {\n",
       "        vertical-align: top;\n",
       "    }\n",
       "\n",
       "    .dataframe thead th {\n",
       "        text-align: right;\n",
       "    }\n",
       "</style>\n",
       "<table border=\"1\" class=\"dataframe\">\n",
       "  <thead>\n",
       "    <tr style=\"text-align: right;\">\n",
       "      <th></th>\n",
       "      <th>SensorID</th>\n",
       "      <th>Start</th>\n",
       "      <th>End</th>\n",
       "      <th>Placeholder</th>\n",
       "      <th>Date</th>\n",
       "      <th>Starttime</th>\n",
       "      <th>Endtime</th>\n",
       "      <th>Minutes</th>\n",
       "      <th>bit1</th>\n",
       "      <th>bit2</th>\n",
       "      <th>bit3</th>\n",
       "      <th>bit4</th>\n",
       "      <th>bit5</th>\n",
       "    </tr>\n",
       "  </thead>\n",
       "  <tbody>\n",
       "    <tr>\n",
       "      <th>60</th>\n",
       "      <td>363</td>\n",
       "      <td>19-06-06 00:01:21</td>\n",
       "      <td>19-06-06 00:01:22</td>\n",
       "      <td>1.0</td>\n",
       "      <td>19-06-06</td>\n",
       "      <td>00:01:21</td>\n",
       "      <td>00:01:22</td>\n",
       "      <td>1</td>\n",
       "      <td>0</td>\n",
       "      <td>1</td>\n",
       "      <td>0</td>\n",
       "      <td>0</td>\n",
       "      <td>0</td>\n",
       "    </tr>\n",
       "    <tr>\n",
       "      <th>61</th>\n",
       "      <td>421</td>\n",
       "      <td>19-06-06 00:03:54</td>\n",
       "      <td>19-06-06 00:03:55</td>\n",
       "      <td>1.0</td>\n",
       "      <td>19-06-06</td>\n",
       "      <td>00:03:54</td>\n",
       "      <td>00:03:55</td>\n",
       "      <td>3</td>\n",
       "      <td>0</td>\n",
       "      <td>0</td>\n",
       "      <td>0</td>\n",
       "      <td>1</td>\n",
       "      <td>0</td>\n",
       "    </tr>\n",
       "    <tr>\n",
       "      <th>62</th>\n",
       "      <td>422</td>\n",
       "      <td>19-06-06 00:03:57</td>\n",
       "      <td>19-06-06 00:03:58</td>\n",
       "      <td>1.0</td>\n",
       "      <td>19-06-06</td>\n",
       "      <td>00:03:57</td>\n",
       "      <td>00:03:58</td>\n",
       "      <td>3</td>\n",
       "      <td>0</td>\n",
       "      <td>0</td>\n",
       "      <td>0</td>\n",
       "      <td>1</td>\n",
       "      <td>0</td>\n",
       "    </tr>\n",
       "    <tr>\n",
       "      <th>63</th>\n",
       "      <td>422</td>\n",
       "      <td>19-06-06 00:03:58</td>\n",
       "      <td>19-06-06 00:03:59</td>\n",
       "      <td>1.0</td>\n",
       "      <td>19-06-06</td>\n",
       "      <td>00:03:58</td>\n",
       "      <td>00:03:59</td>\n",
       "      <td>3</td>\n",
       "      <td>0</td>\n",
       "      <td>0</td>\n",
       "      <td>0</td>\n",
       "      <td>1</td>\n",
       "      <td>0</td>\n",
       "    </tr>\n",
       "    <tr>\n",
       "      <th>64</th>\n",
       "      <td>422</td>\n",
       "      <td>19-06-06 00:04:07</td>\n",
       "      <td>19-06-06 00:04:08</td>\n",
       "      <td>1.0</td>\n",
       "      <td>19-06-06</td>\n",
       "      <td>00:04:07</td>\n",
       "      <td>00:04:08</td>\n",
       "      <td>4</td>\n",
       "      <td>0</td>\n",
       "      <td>0</td>\n",
       "      <td>0</td>\n",
       "      <td>0</td>\n",
       "      <td>1</td>\n",
       "    </tr>\n",
       "  </tbody>\n",
       "</table>\n",
       "</div>"
      ],
      "text/plain": [
       "    SensorID              Start                End  Placeholder      Date  \\\n",
       "60       363  19-06-06 00:01:21  19-06-06 00:01:22          1.0  19-06-06   \n",
       "61       421  19-06-06 00:03:54  19-06-06 00:03:55          1.0  19-06-06   \n",
       "62       422  19-06-06 00:03:57  19-06-06 00:03:58          1.0  19-06-06   \n",
       "63       422  19-06-06 00:03:58  19-06-06 00:03:59          1.0  19-06-06   \n",
       "64       422  19-06-06 00:04:07  19-06-06 00:04:08          1.0  19-06-06   \n",
       "\n",
       "   Starttime   Endtime  Minutes  bit1  bit2  bit3  bit4  bit5  \n",
       "60  00:01:21  00:01:22        1     0     1     0     0     0  \n",
       "61  00:03:54  00:03:55        3     0     0     0     1     0  \n",
       "62  00:03:57  00:03:58        3     0     0     0     1     0  \n",
       "63  00:03:58  00:03:59        3     0     0     0     1     0  \n",
       "64  00:04:07  00:04:08        4     0     0     0     0     1  "
      ]
     },
     "execution_count": 90,
     "metadata": {},
     "output_type": "execute_result"
    }
   ],
   "source": [
    "df2.iloc[60:65]"
   ]
  },
  {
   "cell_type": "code",
   "execution_count": 91,
   "metadata": {},
   "outputs": [
    {
     "data": {
      "text/html": [
       "<div>\n",
       "<style scoped>\n",
       "    .dataframe tbody tr th:only-of-type {\n",
       "        vertical-align: middle;\n",
       "    }\n",
       "\n",
       "    .dataframe tbody tr th {\n",
       "        vertical-align: top;\n",
       "    }\n",
       "\n",
       "    .dataframe thead th {\n",
       "        text-align: right;\n",
       "    }\n",
       "</style>\n",
       "<table border=\"1\" class=\"dataframe\">\n",
       "  <thead>\n",
       "    <tr style=\"text-align: right;\">\n",
       "      <th></th>\n",
       "      <th>SensorID</th>\n",
       "      <th>Start</th>\n",
       "      <th>End</th>\n",
       "      <th>Placeholder</th>\n",
       "      <th>Date</th>\n",
       "      <th>Starttime</th>\n",
       "      <th>Endtime</th>\n",
       "      <th>Minutes</th>\n",
       "      <th>bit1</th>\n",
       "      <th>bit2</th>\n",
       "      <th>bit3</th>\n",
       "      <th>bit4</th>\n",
       "      <th>bit5</th>\n",
       "    </tr>\n",
       "  </thead>\n",
       "  <tbody>\n",
       "    <tr>\n",
       "      <th>2511174</th>\n",
       "      <td>425</td>\n",
       "      <td>18-07-06 23:58:25</td>\n",
       "      <td>18-07-06 23:58:26</td>\n",
       "      <td>1.0</td>\n",
       "      <td>18-07-06</td>\n",
       "      <td>23:58:25</td>\n",
       "      <td>23:58:26</td>\n",
       "      <td>58</td>\n",
       "      <td>0</td>\n",
       "      <td>0</td>\n",
       "      <td>0</td>\n",
       "      <td>1</td>\n",
       "      <td>0</td>\n",
       "    </tr>\n",
       "    <tr>\n",
       "      <th>2511175</th>\n",
       "      <td>427</td>\n",
       "      <td>18-07-06 23:58:26</td>\n",
       "      <td>18-07-06 23:58:27</td>\n",
       "      <td>1.0</td>\n",
       "      <td>18-07-06</td>\n",
       "      <td>23:58:26</td>\n",
       "      <td>23:58:27</td>\n",
       "      <td>58</td>\n",
       "      <td>0</td>\n",
       "      <td>0</td>\n",
       "      <td>0</td>\n",
       "      <td>1</td>\n",
       "      <td>0</td>\n",
       "    </tr>\n",
       "    <tr>\n",
       "      <th>2511176</th>\n",
       "      <td>428</td>\n",
       "      <td>18-07-06 23:58:26</td>\n",
       "      <td>18-07-06 23:58:27</td>\n",
       "      <td>1.0</td>\n",
       "      <td>18-07-06</td>\n",
       "      <td>23:58:26</td>\n",
       "      <td>23:58:27</td>\n",
       "      <td>58</td>\n",
       "      <td>0</td>\n",
       "      <td>0</td>\n",
       "      <td>0</td>\n",
       "      <td>1</td>\n",
       "      <td>0</td>\n",
       "    </tr>\n",
       "    <tr>\n",
       "      <th>2511177</th>\n",
       "      <td>423</td>\n",
       "      <td>18-07-06 23:58:28</td>\n",
       "      <td>18-07-06 23:58:29</td>\n",
       "      <td>1.0</td>\n",
       "      <td>18-07-06</td>\n",
       "      <td>23:58:28</td>\n",
       "      <td>23:58:29</td>\n",
       "      <td>58</td>\n",
       "      <td>0</td>\n",
       "      <td>0</td>\n",
       "      <td>0</td>\n",
       "      <td>1</td>\n",
       "      <td>0</td>\n",
       "    </tr>\n",
       "    <tr>\n",
       "      <th>2511178</th>\n",
       "      <td>422</td>\n",
       "      <td>18-07-06 23:58:30</td>\n",
       "      <td>18-07-06 23:58:31</td>\n",
       "      <td>1.0</td>\n",
       "      <td>18-07-06</td>\n",
       "      <td>23:58:30</td>\n",
       "      <td>23:58:31</td>\n",
       "      <td>58</td>\n",
       "      <td>0</td>\n",
       "      <td>0</td>\n",
       "      <td>0</td>\n",
       "      <td>1</td>\n",
       "      <td>0</td>\n",
       "    </tr>\n",
       "  </tbody>\n",
       "</table>\n",
       "</div>"
      ],
      "text/plain": [
       "         SensorID              Start                End  Placeholder  \\\n",
       "2511174       425  18-07-06 23:58:25  18-07-06 23:58:26          1.0   \n",
       "2511175       427  18-07-06 23:58:26  18-07-06 23:58:27          1.0   \n",
       "2511176       428  18-07-06 23:58:26  18-07-06 23:58:27          1.0   \n",
       "2511177       423  18-07-06 23:58:28  18-07-06 23:58:29          1.0   \n",
       "2511178       422  18-07-06 23:58:30  18-07-06 23:58:31          1.0   \n",
       "\n",
       "             Date Starttime   Endtime  Minutes  bit1  bit2  bit3  bit4  bit5  \n",
       "2511174  18-07-06  23:58:25  23:58:26       58     0     0     0     1     0  \n",
       "2511175  18-07-06  23:58:26  23:58:27       58     0     0     0     1     0  \n",
       "2511176  18-07-06  23:58:26  23:58:27       58     0     0     0     1     0  \n",
       "2511177  18-07-06  23:58:28  23:58:29       58     0     0     0     1     0  \n",
       "2511178  18-07-06  23:58:30  23:58:31       58     0     0     0     1     0  "
      ]
     },
     "execution_count": 91,
     "metadata": {},
     "output_type": "execute_result"
    }
   ],
   "source": [
    "df2.tail()"
   ]
  },
  {
   "cell_type": "markdown",
   "metadata": {},
   "source": [
    "### A separate template of 5 minutes interval in a day is created"
   ]
  },
  {
   "cell_type": "code",
   "execution_count": 64,
   "metadata": {},
   "outputs": [],
   "source": [
    "timeiter = pd.read_excel('timetemplate.xlsx')"
   ]
  },
  {
   "cell_type": "code",
   "execution_count": 65,
   "metadata": {},
   "outputs": [
    {
     "data": {
      "text/html": [
       "<div>\n",
       "<style scoped>\n",
       "    .dataframe tbody tr th:only-of-type {\n",
       "        vertical-align: middle;\n",
       "    }\n",
       "\n",
       "    .dataframe tbody tr th {\n",
       "        vertical-align: top;\n",
       "    }\n",
       "\n",
       "    .dataframe thead th {\n",
       "        text-align: right;\n",
       "    }\n",
       "</style>\n",
       "<table border=\"1\" class=\"dataframe\">\n",
       "  <thead>\n",
       "    <tr style=\"text-align: right;\">\n",
       "      <th></th>\n",
       "      <th>start</th>\n",
       "      <th>end</th>\n",
       "    </tr>\n",
       "  </thead>\n",
       "  <tbody>\n",
       "    <tr>\n",
       "      <th>0</th>\n",
       "      <td>00:00:01</td>\n",
       "      <td>00:05:00</td>\n",
       "    </tr>\n",
       "    <tr>\n",
       "      <th>1</th>\n",
       "      <td>00:05:00</td>\n",
       "      <td>00:10:00</td>\n",
       "    </tr>\n",
       "    <tr>\n",
       "      <th>2</th>\n",
       "      <td>00:10:00</td>\n",
       "      <td>00:15:00</td>\n",
       "    </tr>\n",
       "    <tr>\n",
       "      <th>3</th>\n",
       "      <td>00:15:00</td>\n",
       "      <td>00:20:00</td>\n",
       "    </tr>\n",
       "    <tr>\n",
       "      <th>4</th>\n",
       "      <td>00:20:00</td>\n",
       "      <td>00:25:00</td>\n",
       "    </tr>\n",
       "  </tbody>\n",
       "</table>\n",
       "</div>"
      ],
      "text/plain": [
       "      start       end\n",
       "0  00:00:01  00:05:00\n",
       "1  00:05:00  00:10:00\n",
       "2  00:10:00  00:15:00\n",
       "3  00:15:00  00:20:00\n",
       "4  00:20:00  00:25:00"
      ]
     },
     "execution_count": 65,
     "metadata": {},
     "output_type": "execute_result"
    }
   ],
   "source": [
    "timeiter.head()"
   ]
  },
  {
   "cell_type": "code",
   "execution_count": 66,
   "metadata": {},
   "outputs": [],
   "source": [
    "df7 = pd.DataFrame(data={'SensorID':[0], 'bit1':[0], 'bit2':[0], 'bit3':[0], 'bit4':[0], 'bit5':[0], 'Starttime':[0], 'Endtime':[0]})"
   ]
  },
  {
   "cell_type": "markdown",
   "metadata": {},
   "source": [
    "### Grouping By Sensor ID in each 5 minute interval to get bits corresponding to that 5 minute interval"
   ]
  },
  {
   "cell_type": "code",
   "execution_count": 67,
   "metadata": {},
   "outputs": [],
   "source": [
    "def wordgen(tinterval):\n",
    "    global df7\n",
    "    df6 = df5[(df5['Starttime']>=tinterval[0]) & (df5['Endtime']<=datetime.strptime(str(tinterval[1]), '%H:%M:%S').time())].groupby(by='SensorID').sum()[['bit1', 'bit2', 'bit3', 'bit4', 'bit5']].copy()\n",
    "    df6.reset_index(inplace=True)\n",
    "    for string in ['bit1','bit2','bit3','bit4','bit5']:\n",
    "        df6[string] = df6[string].map(lambda x : 1 if x>1 else x)\n",
    "    df6['Starttime'] = tinterval[0]\n",
    "    df6['Endtime'] = tinterval[1]\n",
    "    if(not(df6.empty)):\n",
    "        df7=pd.concat([df7,df6])"
   ]
  },
  {
   "cell_type": "markdown",
   "metadata": {},
   "source": [
    "### Getting the Segment column\n",
    "* 00:00 to 06:00 -> Segment 1\n",
    "* 06:00 to 07:00 -> Segment 2\n",
    "* 07:00 to 09:00 -> Segment 3\n",
    "* 09:00 to 11:00 -> Segment 4\n",
    "* 11:00 to 14:00 -> Segment 5\n",
    "* 14:00 to 17:00 -> Segment 6\n",
    "* 17:00 to 19:00 -> Segment 7\n",
    "* 19:00 to 21:00 -> Segment 8\n",
    "* 21:00 to 00:00 -> Segment 9"
   ]
  },
  {
   "cell_type": "code",
   "execution_count": 88,
   "metadata": {},
   "outputs": [],
   "source": [
    "def get_segment(x):\n",
    "    if ((x >= datetime.strptime(\"00:00:00\", '%H:%M:%S').time()) and (x < datetime.strptime(\"06:00:00\", '%H:%M:%S').time())):\n",
    "        return '1'\n",
    "    if ((x >= datetime.strptime(\"06:00:00\", '%H:%M:%S').time()) and (x < datetime.strptime(\"07:00:00\", '%H:%M:%S').time())):\n",
    "        return '2'\n",
    "    if ((x >= datetime.strptime(\"07:00:00\", '%H:%M:%S').time()) and (x < datetime.strptime(\"09:00:00\", '%H:%M:%S').time())):\n",
    "        return '3'\n",
    "    if ((x >= datetime.strptime(\"09:00:00\", '%H:%M:%S').time()) and (x < datetime.strptime(\"11:00:00\", '%H:%M:%S').time())):\n",
    "        return '4'\n",
    "    if ((x >= datetime.strptime(\"11:00:00\", '%H:%M:%S').time()) and (x < datetime.strptime(\"14:00:00\", '%H:%M:%S').time())):\n",
    "        return '5'\n",
    "    if ((x >= datetime.strptime(\"14:00:00\", '%H:%M:%S').time()) and (x < datetime.strptime(\"17:00:00\", '%H:%M:%S').time())):\n",
    "        return '6'\n",
    "    if ((x >= datetime.strptime(\"17:00:00\", '%H:%M:%S').time()) and (x < datetime.strptime(\"19:00:00\", '%H:%M:%S').time())):\n",
    "        return '7'\n",
    "    if ((x >= datetime.strptime(\"19:00:00\", '%H:%M:%S').time()) and (x < datetime.strptime(\"21:00:00\", '%H:%M:%S').time())):\n",
    "        return '8'\n",
    "    if ((x >= datetime.strptime(\"21:00:00\", '%H:%M:%S').time()) and (x <= datetime.strptime(\"23:59:59\", '%H:%M:%S').time())):\n",
    "        return '9'"
   ]
  },
  {
   "cell_type": "markdown",
   "metadata": {},
   "source": [
    "### Creating the list of all unique sensor IDs"
   ]
  },
  {
   "cell_type": "code",
   "execution_count": 73,
   "metadata": {},
   "outputs": [],
   "source": [
    "sensors = pd.read_csv('map.txt')"
   ]
  },
  {
   "cell_type": "code",
   "execution_count": 74,
   "metadata": {},
   "outputs": [
    {
     "data": {
      "text/plain": [
       "array([ 214,  222,  256,  257,  258,  260,  261,  262,  264,  265,  266,\n",
       "        268,  269,  270,  271,  272,  273,  274,  275,  276,  277,  279,\n",
       "        280,  281,  282,  283,  285,  290,  291,  292,  293,  294,  295,\n",
       "        296,  297,  298,  299,  303,  304,  307,  309,  310,  315,  318,\n",
       "        319,  320,  321,  322,  323,  324,  326,  327,  328,  329,  330,\n",
       "        331,  334,  336,  338,  339,  340,  341,  342,  343,  344,  345,\n",
       "        346,  347,  348,  349,  350,  351,  352,  353,  354,  355,  356,\n",
       "        357,  358,  359,  360,  361,  363,  365,  367,  368,  369,  370,\n",
       "        371,  372,  373,  374,  375,  376,  377,  378,  379,  380,  383,\n",
       "        384,  385,  386,  387,  388,  389,  390,  391,  392,  393,  394,\n",
       "        395,  396,  397,  398,  399,  400,  401,  403,  404,  405,  406,\n",
       "        407,  408,  410,  412,  413,  414,  415,  416,  417,  418,  419,\n",
       "        420,  421,  422,  423,  424,  425,  426,  427,  428,  429,  430,\n",
       "        432,  433,  434,  435,  436,  437,  438,  439,  440,  441,  442,\n",
       "        444,  445,  446,  447,  448,  449,  450,  451,  452,  453,  454,\n",
       "        455,  458,  459,  460,  461,  462,  464,  465,  466,  467,  468,\n",
       "        469,  470,  471,  472,  473,  474,  475,  476,  477,  478,  479,\n",
       "        480,  481,  482,  483,  485,  486,  487,  488,  489,  490,  491,\n",
       "        492,  493,  494,  495,  496,  497,  498,  499,  500,  501,  502,\n",
       "        503,  505, 2130, 2137], dtype=int64)"
      ]
     },
     "execution_count": 74,
     "metadata": {},
     "output_type": "execute_result"
    }
   ],
   "source": [
    "sensors['Sensor'].unique()"
   ]
  },
  {
   "cell_type": "code",
   "execution_count": 79,
   "metadata": {},
   "outputs": [],
   "source": [
    "list1 = [ 214,  222,  256,  257,  258,  260,  261,  262,  264,  265,  266,\n",
    "        268,  269,  270,  271,  272,  273,  274,  275,  276,  277,  279,\n",
    "        280,  281,  282,  283,  285,  290,  291,  292,  293,  294,  295,\n",
    "        296,  297,  298,  299,  303,  304,  307,  309,  310,  315,  318,\n",
    "        319,  320,  321,  322,  323,  324,  326,  327,  328,  329,  330,\n",
    "        331,  334,  336,  338,  339,  340,  341,  342,  343,  344,  345,\n",
    "        346,  347,  348,  349,  350,  351,  352,  353,  354,  355,  356,\n",
    "        357,  358,  359,  360,  361,  363,  365,  367,  368,  369,  370,\n",
    "        371,  372,  373,  374,  375,  376,  377,  378,  379,  380,  383,\n",
    "        384,  385,  386,  387,  388,  389,  390,  391,  392,  393,  394,\n",
    "        395,  396,  397,  398,  399,  400,  401,  403,  404,  405,  406,\n",
    "        407,  408,  410,  412,  413,  414,  415,  416,  417,  418,  419,\n",
    "        420,  421,  422,  423,  424,  425,  426,  427,  428,  429,  430,\n",
    "        432,  433,  434,  435,  436,  437,  438,  439,  440,  441,  442,\n",
    "        444,  445,  446,  447,  448,  449,  450,  451,  452,  453,  454,\n",
    "        455,  458,  459,  460,  461,  462,  464,  465,  466,  467,  468,\n",
    "        469,  470,  471,  472,  473,  474,  475,  476,  477,  478,  479,\n",
    "        480,  481,  482,  483,  485,  486,  487,  488,  489,  490,  491,\n",
    "        492,  493,  494,  495,  496,  497,  498,  499,  500,  501,  502,\n",
    "        503,  505]"
   ]
  },
  {
   "cell_type": "markdown",
   "metadata": {},
   "source": [
    "### Concating the bits, segment and sensor ID columns in that order to get the words"
   ]
  },
  {
   "cell_type": "code",
   "execution_count": 86,
   "metadata": {},
   "outputs": [],
   "source": [
    "def concatcol(x):\n",
    "    return str(x[1])+str(x[2])+str(x[3])+str(x[4])+str(x[5])+str(x[8])+str(x[0])"
   ]
  },
  {
   "cell_type": "markdown",
   "metadata": {},
   "source": [
    "### Creating per day per sensor file"
   ]
  },
  {
   "cell_type": "code",
   "execution_count": 71,
   "metadata": {},
   "outputs": [],
   "source": [
    "def file_gen(x):\n",
    "    global df5\n",
    "    df5 = df2[df2['Date']==x]\n",
    "    global df7\n",
    "    df7 = pd.DataFrame(data={'SensorID':[0], 'bit1':[0], 'bit2':[0], 'bit3':[0], 'bit4':[0], 'bit5':[0], 'Starttime':[0], 'Endtime':[0]})\n",
    "    df7.drop([0],axis=0, inplace=True)\n",
    "    timeiter.apply(wordgen, axis=1)[:1]\n",
    "    df7['Segment'] = df7['Starttime'].apply(get_segment)\n",
    "    df7['Word'] = df7.apply(concatcol, axis=1)\n",
    "    for y in list1:\n",
    "        df5 = df7[df7['SensorID']==y]\n",
    "        if(df5.shape[0]>0):\n",
    "            df5.to_csv('Per Day Per Sensor/'+x+' '+str(y)+'.txt')"
   ]
  },
  {
   "cell_type": "markdown",
   "metadata": {},
   "source": [
    "### A separate template of dates in the observation period"
   ]
  },
  {
   "cell_type": "code",
   "execution_count": 92,
   "metadata": {},
   "outputs": [],
   "source": [
    "dates = pd.read_excel('1monthdates.xlsx', dtype=object)"
   ]
  },
  {
   "cell_type": "code",
   "execution_count": 93,
   "metadata": {},
   "outputs": [
    {
     "data": {
      "text/html": [
       "<div>\n",
       "<style scoped>\n",
       "    .dataframe tbody tr th:only-of-type {\n",
       "        vertical-align: middle;\n",
       "    }\n",
       "\n",
       "    .dataframe tbody tr th {\n",
       "        vertical-align: top;\n",
       "    }\n",
       "\n",
       "    .dataframe thead th {\n",
       "        text-align: right;\n",
       "    }\n",
       "</style>\n",
       "<table border=\"1\" class=\"dataframe\">\n",
       "  <thead>\n",
       "    <tr style=\"text-align: right;\">\n",
       "      <th></th>\n",
       "      <th>Dates</th>\n",
       "      <th>String</th>\n",
       "    </tr>\n",
       "  </thead>\n",
       "  <tbody>\n",
       "    <tr>\n",
       "      <th>0</th>\n",
       "      <td>2006-06-19</td>\n",
       "      <td>19-06-06</td>\n",
       "    </tr>\n",
       "    <tr>\n",
       "      <th>1</th>\n",
       "      <td>2006-06-20</td>\n",
       "      <td>20-06-06</td>\n",
       "    </tr>\n",
       "    <tr>\n",
       "      <th>2</th>\n",
       "      <td>2006-06-21</td>\n",
       "      <td>21-06-06</td>\n",
       "    </tr>\n",
       "    <tr>\n",
       "      <th>3</th>\n",
       "      <td>2006-06-22</td>\n",
       "      <td>22-06-06</td>\n",
       "    </tr>\n",
       "    <tr>\n",
       "      <th>4</th>\n",
       "      <td>2006-06-23</td>\n",
       "      <td>23-06-06</td>\n",
       "    </tr>\n",
       "  </tbody>\n",
       "</table>\n",
       "</div>"
      ],
      "text/plain": [
       "       Dates    String\n",
       "0 2006-06-19  19-06-06\n",
       "1 2006-06-20  20-06-06\n",
       "2 2006-06-21  21-06-06\n",
       "3 2006-06-22  22-06-06\n",
       "4 2006-06-23  23-06-06"
      ]
     },
     "execution_count": 93,
     "metadata": {},
     "output_type": "execute_result"
    }
   ],
   "source": [
    "dates.head()"
   ]
  },
  {
   "cell_type": "code",
   "execution_count": null,
   "metadata": {},
   "outputs": [],
   "source": [
    "dates['String'].apply(file_gen) #actual file generation"
   ]
  },
  {
   "cell_type": "code",
   "execution_count": null,
   "metadata": {},
   "outputs": [],
   "source": []
  }
 ],
 "metadata": {
  "kernelspec": {
   "display_name": "Python 3",
   "language": "python",
   "name": "python3"
  },
  "language_info": {
   "codemirror_mode": {
    "name": "ipython",
    "version": 3
   },
   "file_extension": ".py",
   "mimetype": "text/x-python",
   "name": "python",
   "nbconvert_exporter": "python",
   "pygments_lexer": "ipython3",
   "version": "3.7.1"
  }
 },
 "nbformat": 4,
 "nbformat_minor": 4
}
