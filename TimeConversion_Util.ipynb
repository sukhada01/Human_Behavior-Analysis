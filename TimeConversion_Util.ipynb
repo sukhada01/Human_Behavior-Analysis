{
 "cells": [
  {
   "cell_type": "code",
   "execution_count": 1,
   "metadata": {},
   "outputs": [],
   "source": [
    "#Importing the required libraries\n",
    "import pandas as pd\n",
    "from datetime import datetime, timedelta"
   ]
  },
  {
   "cell_type": "markdown",
   "metadata": {},
   "source": [
    "#### Eastern Day Time is 5 hours behind the UTC (Coordinated Universal Time)"
   ]
  },
  {
   "cell_type": "code",
   "execution_count": 2,
   "metadata": {},
   "outputs": [],
   "source": [
    "#Defining a function to adjust the timezone according to the Universal Time Zone\n",
    "\n",
    "def readable_date(date):\n",
    "    ts = int(date)\n",
    "    ts/=1000 #given time is upto millisecond precision. We need only till seconds.\n",
    "    edt = datetime.utcfromtimestamp(ts)+timedelta(hours=-5)\n",
    "    return edt.strftime('%d-%m-%y %H:%M:%S')"
   ]
  },
  {
   "cell_type": "code",
   "execution_count": 3,
   "metadata": {},
   "outputs": [],
   "source": [
    "#Importing one of the text files for a duration of 4 months as designated in the dataset\n",
    "df = pd.read_csv(\"0115.txt\", sep=' ')"
   ]
  },
  {
   "cell_type": "code",
   "execution_count": 4,
   "metadata": {},
   "outputs": [],
   "source": [
    "#Time Conversion of the Sensor activation start time\n",
    "df['Start']=df['Start'].apply(readable_date)"
   ]
  },
  {
   "cell_type": "code",
   "execution_count": null,
   "metadata": {},
   "outputs": [],
   "source": [
    "#Time Conversion of the Sensor activation end time\n",
    "df['End']=df['End'].apply(readable_date)"
   ]
  },
  {
   "cell_type": "code",
   "execution_count": null,
   "metadata": {},
   "outputs": [],
   "source": [
    "#Converting the time altered dataset and exporting as a .csv file\n",
    "df.to_csv(\"CSV/115.csv\", header=True)  "
   ]
  },
  {
   "cell_type": "markdown",
   "metadata": {},
   "source": [
    "### Converting time in files 0114.txt to 0119.txt "
   ]
  },
  {
   "cell_type": "code",
   "execution_count": null,
   "metadata": {},
   "outputs": [],
   "source": [
    "for i in range(4, 9):\n",
    "    df = pd.read_csv(\"011\"+str(i)+\".txt\", sep=' ')\n",
    "    df['Start']=df['Start'].apply(readable_date)\n",
    "    df['End']=df['End'].apply(readable_date)\n",
    "    df.to_csv(\"CSV/11\"+str(i)+\".csv\", header=True)  "
   ]
  }
 ],
 "metadata": {
  "kernelspec": {
   "display_name": "Python 3",
   "language": "python",
   "name": "python3"
  },
  "language_info": {
   "codemirror_mode": {
    "name": "ipython",
    "version": 3
   },
   "file_extension": ".py",
   "mimetype": "text/x-python",
   "name": "python",
   "nbconvert_exporter": "python",
   "pygments_lexer": "ipython3",
   "version": "3.7.1"
  }
 },
 "nbformat": 4,
 "nbformat_minor": 4
}
